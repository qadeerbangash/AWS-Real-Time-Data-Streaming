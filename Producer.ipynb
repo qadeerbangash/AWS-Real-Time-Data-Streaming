{
 "cells": [
  {
   "cell_type": "code",
   "execution_count": 4,
   "id": "e2d3f594",
   "metadata": {},
   "outputs": [],
   "source": [
    "# !pip install kafka-python"
   ]
  },
  {
   "cell_type": "code",
   "execution_count": 2,
   "id": "f19405f0",
   "metadata": {},
   "outputs": [],
   "source": [
    "import pandas as pd\n",
    "from kafka import KafkaProducer\n",
    "from time import sleep\n",
    "from json import dumps\n",
    "import json"
   ]
  },
  {
   "cell_type": "code",
   "execution_count": 5,
   "id": "b483a0e4",
   "metadata": {
    "scrolled": true
   },
   "outputs": [],
   "source": [
    "producer = KafkaProducer(bootstrap_servers=['localhost:9092'], #instead of localhost we can give the ip address too.\n",
    "                         value_serializer=lambda x: \n",
    "                         dumps(x).encode('utf-8'))"
   ]
  },
  {
   "cell_type": "code",
   "execution_count": null,
   "id": "0c30b915",
   "metadata": {},
   "outputs": [],
   "source": [
    "producer.send('my_topic', value={'user':'testing'})\n",
    " # my_topic is a topic name\n"
   ]
  },
  {
   "cell_type": "code",
   "execution_count": null,
   "id": "cc8d45aa",
   "metadata": {},
   "outputs": [],
   "source": [
    "df = pd.read_csv(\"indexProcessed.csv\")"
   ]
  },
  {
   "cell_type": "code",
   "execution_count": null,
   "id": "113a2516",
   "metadata": {},
   "outputs": [],
   "source": [
    "# df.head()"
   ]
  },
  {
   "cell_type": "code",
   "execution_count": null,
   "id": "b3a10768-8ee5-41fa-b84f-c0f7aea616ae",
   "metadata": {},
   "outputs": [],
   "source": [
    "# df.sample(1)"
   ]
  },
  {
   "cell_type": "code",
   "execution_count": null,
   "id": "0dfb147c-eeee-4bb6-89bc-40fa2ebe9f77",
   "metadata": {},
   "outputs": [],
   "source": [
    "# df.sample(1).to_dict()"
   ]
  },
  {
   "cell_type": "code",
   "execution_count": null,
   "id": "ccbeb2c1-73f9-4a91-8e32-e0c05893145f",
   "metadata": {},
   "outputs": [],
   "source": [
    "# df.sample(1).to_dict(orient=\"records\")"
   ]
  },
  {
   "cell_type": "code",
   "execution_count": null,
   "id": "4c7ec0be",
   "metadata": {},
   "outputs": [],
   "source": [
    "while True:\n",
    "    dict_stock = df.sample(1).to_dict(orient=\"records\")[0]\n",
    "    producer.send('my_topic', value=dict_stock)\n",
    "    # sleep(1)"
   ]
  },
  {
   "cell_type": "code",
   "execution_count": null,
   "id": "ed71c0e4",
   "metadata": {},
   "outputs": [],
   "source": [
    "producer.flush() #clear data from kafka server"
   ]
  },
  {
   "cell_type": "code",
   "execution_count": null,
   "id": "6e9006f4-931d-45e4-93f9-0a3f31e68810",
   "metadata": {},
   "outputs": [],
   "source": []
  }
 ],
 "metadata": {
  "kernelspec": {
   "display_name": "Python 3 (ipykernel)",
   "language": "python",
   "name": "python3"
  },
  "language_info": {
   "codemirror_mode": {
    "name": "ipython",
    "version": 3
   },
   "file_extension": ".py",
   "mimetype": "text/x-python",
   "name": "python",
   "nbconvert_exporter": "python",
   "pygments_lexer": "ipython3",
   "version": "3.10.12"
  }
 },
 "nbformat": 4,
 "nbformat_minor": 5
}
